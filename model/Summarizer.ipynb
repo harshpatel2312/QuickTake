{
 "cells": [
  {
   "cell_type": "code",
   "execution_count": 1,
   "id": "92194fd4-63e7-460d-9de2-83002b3a4fc5",
   "metadata": {},
   "outputs": [],
   "source": [
    "from transformers import pipeline\n",
    "import torch"
   ]
  },
  {
   "cell_type": "code",
   "execution_count": 3,
   "id": "1edbad70-b12a-45c0-950f-456bc12f63e7",
   "metadata": {},
   "outputs": [
    {
     "name": "stdout",
     "output_type": "stream",
     "text": [
      "True\n",
      "NVIDIA GeForce GTX 1650\n"
     ]
    }
   ],
   "source": [
    "print(torch.cuda.is_available())  # Should be True\n",
    "print(torch.cuda.get_device_name(0))  # Should show your GPU name"
   ]
  },
  {
   "cell_type": "code",
   "execution_count": 21,
   "id": "0c90d660-6be1-4b14-8d65-048b1867b797",
   "metadata": {},
   "outputs": [
    {
     "name": "stderr",
     "output_type": "stream",
     "text": [
      "Device set to use cuda:0\n"
     ]
    }
   ],
   "source": [
    "# Load summarier\n",
    "summarizer = pipeline(\"summarization\", model = \"sshleifer/distilbart-cnn-12-6\")\n",
    "\n",
    "article = \"\"\"\n",
    "Manitoba is shaking up its moose hunt system after a slash to the number of licences offered last year received both flak and legal challenges from a northern Manitoba First Nation and a provincial conservation organization representing the interests of hunters.\n",
    "\n",
    "The province will grant 350 moose hunting licences this year, up from the 100 offered last year, Natural Resources and Indigenous Futures Minister Ian Bushie said in a Thursday news release.\n",
    "\n",
    "The move aligns with the province's obligations under the 1977 Northern Flood Agreement, which states Manitoba must prioritize Indigenous harvesters on traditional territory of Pimicikamak Cree Nation, Bushie said in the release.\n",
    "\n",
    "Jamie Moses, then the minister of natural resources, sparked fury from Pimicikamak and the Manitoba Wildlife Federation last summer after he cut the number of moose draw hunting licences for Manitoba residents by 75 per cent — from a total of 400 to 100 — across four of Manitoba's 62 game hunting areas.\n",
    "\n",
    "First Nation's moose hunting case to make 'new case law' in Manitoba, lawyers say as hearings conclude\n",
    "Manitoba made 'political compromise' by cutting moose draw licences in some areas, lawyer argues\n",
    "The traditional territory of Pimicikamak, also known as the Cross Lake Resource Area, spans nearly 15,000 square kilometres and portions of four of Manitoba's game hunting areas, including two of four GHAs subject to the 75 per cent licence reduction.\n",
    "\n",
    "Pimicikamak and the wildlife federation both challenged Moses' decision in court. Manitoba Court of King's Bench Justice Brian Bowman heard from lawyers representing Pimicikamak, the wildlife federation and the province during a two-day hearing last November.\n",
    "\n",
    "New wildlife advisory board\n",
    "Pimicikamak's lawyers argued the province's July 11 licensing decision infringed on its rights under provincial laws, Treaty 5 and the 1977 Northern Flood Agreement. The wildlife federation argued the cut in licences was not based on scientific data.\n",
    "\n",
    "The province's lawyers asked Bowman to dismiss both applications, but to dismiss Pimicikamak's case without prejudice so the First Nation could potentially pursue a lawsuit instead, because while both groups have an interest in Manitoba wildlife, they are not equal, as First Nations people have recognized treaty rights to hunt.\n",
    "\n",
    "Bowman has yet to deliver a decision in the case.\n",
    "\n",
    "'The fight's not over,' Pimicikamak chief says after urging non-Indigenous moose hunters to return licences\n",
    "Pimicikamak Cree Nation asks court to cancel moose hunting licences in territory amid population 'crisis'\n",
    "The province also says aerial surveys focused on moose were conducted in GHAs 9A and 10 over the winter. Fifteen per cent of GHA 9A, and 12 per cent of GHA 10 has been set aside for exclusive use by Indigenous hunters.\n",
    "\n",
    "The 350 moose hunting licences being offered this year span the remaining portions of GHAs 9A and 10, as well as GHAs 15 and 15A.\n",
    "\n",
    "The province is going to work with Pimicikamak to create a wildlife advisory and planning board, which will impact shared wildlife-related resources, Bushie said in the release.\n",
    "\n",
    "The board will help manage resources and allow discussion of shared land and natural resource management, he said.\n",
    "\n",
    "\"\"\"\n",
    "\n",
    "# Extracting tokens from the article\n",
    "truncated_article = ' '.join(article.split()[:256])"
   ]
  },
  {
   "cell_type": "code",
   "execution_count": 7,
   "id": "3d303c1c-8fed-43e0-b1e5-cdb1ecae06f5",
   "metadata": {},
   "outputs": [],
   "source": [
    "import time"
   ]
  },
  {
   "cell_type": "code",
   "execution_count": 23,
   "id": "f0877a88-6f01-418e-bcdc-146136e65575",
   "metadata": {},
   "outputs": [
    {
     "name": "stdout",
     "output_type": "stream",
     "text": [
      "Summary:  The province will grant 350 moose hunting licences this year, up from the 100 offered last year . The move aligns with the 1977 Northern Flood Agreement, which states Manitoba must prioritize Indigenous harvesters on traditional territory of Pimicikamak Cree Nation . Jamie Moses, then\n",
      "Time Taken: 0.9520001411437988 seconds\n"
     ]
    }
   ],
   "source": [
    "start_time = time.time()\n",
    "# Summarize in 45 words\n",
    "# do_sample helps to summarize to the point...\n",
    "summary = summarizer(truncated_article, max_length = 60, min_length = 20, do_sample=False)\n",
    "\n",
    "end_time = time.time()\n",
    "\n",
    "print(f\"Summary: {summary[0]['summary_text']}\")\n",
    "print(F\"Time Taken: {end_time - start_time} seconds\")"
   ]
  },
  {
   "cell_type": "code",
   "execution_count": null,
   "id": "92f39070-3bad-41f5-b7ce-ec9db43f3234",
   "metadata": {},
   "outputs": [],
   "source": []
  }
 ],
 "metadata": {
  "kernelspec": {
   "display_name": "Python 3 (ipykernel)",
   "language": "python",
   "name": "python3"
  },
  "language_info": {
   "codemirror_mode": {
    "name": "ipython",
    "version": 3
   },
   "file_extension": ".py",
   "mimetype": "text/x-python",
   "name": "python",
   "nbconvert_exporter": "python",
   "pygments_lexer": "ipython3",
   "version": "3.12.4"
  }
 },
 "nbformat": 4,
 "nbformat_minor": 5
}
