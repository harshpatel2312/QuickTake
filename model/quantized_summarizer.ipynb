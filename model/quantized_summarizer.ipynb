{
 "cells": [
  {
   "cell_type": "code",
   "execution_count": 163,
   "id": "e5bff8ef-4049-4119-83c6-3aae3e9ab5f0",
   "metadata": {},
   "outputs": [],
   "source": [
    "from transformers import AutoTokenizer, AutoModelForSeq2SeqLM\n",
    "import torch"
   ]
  },
  {
   "cell_type": "code",
   "execution_count": 164,
   "id": "bb70487f-02e1-4d6a-bde9-492e22c03046",
   "metadata": {},
   "outputs": [
    {
     "data": {
      "text/plain": [
       "BartForConditionalGeneration(\n",
       "  (model): BartModel(\n",
       "    (shared): BartScaledWordEmbedding(50264, 1024, padding_idx=1)\n",
       "    (encoder): BartEncoder(\n",
       "      (embed_tokens): BartScaledWordEmbedding(50264, 1024, padding_idx=1)\n",
       "      (embed_positions): BartLearnedPositionalEmbedding(1026, 1024)\n",
       "      (layers): ModuleList(\n",
       "        (0-11): 12 x BartEncoderLayer(\n",
       "          (self_attn): BartSdpaAttention(\n",
       "            (k_proj): Linear(in_features=1024, out_features=1024, bias=True)\n",
       "            (v_proj): Linear(in_features=1024, out_features=1024, bias=True)\n",
       "            (q_proj): Linear(in_features=1024, out_features=1024, bias=True)\n",
       "            (out_proj): Linear(in_features=1024, out_features=1024, bias=True)\n",
       "          )\n",
       "          (self_attn_layer_norm): LayerNorm((1024,), eps=1e-05, elementwise_affine=True)\n",
       "          (activation_fn): GELUActivation()\n",
       "          (fc1): Linear(in_features=1024, out_features=4096, bias=True)\n",
       "          (fc2): Linear(in_features=4096, out_features=1024, bias=True)\n",
       "          (final_layer_norm): LayerNorm((1024,), eps=1e-05, elementwise_affine=True)\n",
       "        )\n",
       "      )\n",
       "      (layernorm_embedding): LayerNorm((1024,), eps=1e-05, elementwise_affine=True)\n",
       "    )\n",
       "    (decoder): BartDecoder(\n",
       "      (embed_tokens): BartScaledWordEmbedding(50264, 1024, padding_idx=1)\n",
       "      (embed_positions): BartLearnedPositionalEmbedding(1026, 1024)\n",
       "      (layers): ModuleList(\n",
       "        (0-5): 6 x BartDecoderLayer(\n",
       "          (self_attn): BartSdpaAttention(\n",
       "            (k_proj): Linear(in_features=1024, out_features=1024, bias=True)\n",
       "            (v_proj): Linear(in_features=1024, out_features=1024, bias=True)\n",
       "            (q_proj): Linear(in_features=1024, out_features=1024, bias=True)\n",
       "            (out_proj): Linear(in_features=1024, out_features=1024, bias=True)\n",
       "          )\n",
       "          (activation_fn): GELUActivation()\n",
       "          (self_attn_layer_norm): LayerNorm((1024,), eps=1e-05, elementwise_affine=True)\n",
       "          (encoder_attn): BartSdpaAttention(\n",
       "            (k_proj): Linear(in_features=1024, out_features=1024, bias=True)\n",
       "            (v_proj): Linear(in_features=1024, out_features=1024, bias=True)\n",
       "            (q_proj): Linear(in_features=1024, out_features=1024, bias=True)\n",
       "            (out_proj): Linear(in_features=1024, out_features=1024, bias=True)\n",
       "          )\n",
       "          (encoder_attn_layer_norm): LayerNorm((1024,), eps=1e-05, elementwise_affine=True)\n",
       "          (fc1): Linear(in_features=1024, out_features=4096, bias=True)\n",
       "          (fc2): Linear(in_features=4096, out_features=1024, bias=True)\n",
       "          (final_layer_norm): LayerNorm((1024,), eps=1e-05, elementwise_affine=True)\n",
       "        )\n",
       "      )\n",
       "      (layernorm_embedding): LayerNorm((1024,), eps=1e-05, elementwise_affine=True)\n",
       "    )\n",
       "  )\n",
       "  (lm_head): Linear(in_features=1024, out_features=50264, bias=False)\n",
       ")"
      ]
     },
     "execution_count": 164,
     "metadata": {},
     "output_type": "execute_result"
    }
   ],
   "source": [
    "model_name = \"sshleifer/distilbart-cnn-12-6\"\n",
    "tokenizer = AutoTokenizer.from_pretrained(model_name)\n",
    "model = AutoModelForSeq2SeqLM.from_pretrained(model_name)\n",
    "model.eval() # Sets model to inference mode"
   ]
  },
  {
   "cell_type": "code",
   "execution_count": 165,
   "id": "e4c5639a-ad18-46f4-ae7b-f2d40b4fa8ea",
   "metadata": {},
   "outputs": [],
   "source": [
    "quantized_model = torch.quantization.quantize_dynamic(\n",
    "    model,\n",
    "    {torch.nn.Linear}, # Only quantize dense(linear) layers\n",
    "    dtype=torch.qint8 # Quantize weights \n",
    ")"
   ]
  },
  {
   "cell_type": "code",
   "execution_count": 166,
   "id": "20548f21-d4df-4832-a4ac-f95148c5d6b3",
   "metadata": {},
   "outputs": [],
   "source": [
    "torch.save(quantized_model.state_dict(), \"QuickTake.pt\") # Model saved with tensor parameters"
   ]
  },
  {
   "cell_type": "code",
   "execution_count": 167,
   "id": "80ec04df-0883-403d-9456-db544ab0d80b",
   "metadata": {},
   "outputs": [],
   "source": [
    "# model = AutoModelForSeq2SeqLM.from_pretrained(model_name)\n",
    "# model.load_state_dict(torch.load(\"QuickTake.pt\"))\n",
    "# model.eval()"
   ]
  },
  {
   "cell_type": "code",
   "execution_count": 168,
   "id": "96b9fdf8-4038-47f4-8566-6952503dae8a",
   "metadata": {},
   "outputs": [],
   "source": [
    "article = \"\"\"\n",
    "Manitoba is shaking up its moose hunt system after a slash to the number of licences offered last year received both flak and legal challenges from a northern Manitoba First Nation and a provincial conservation organization representing the interests of hunters.\n",
    "\n",
    "The province will grant 350 moose hunting licences this year, up from the 100 offered last year, Natural Resources and Indigenous Futures Minister Ian Bushie said in a Thursday news release.\n",
    "\n",
    "The move aligns with the province's obligations under the 1977 Northern Flood Agreement, which states Manitoba must prioritize Indigenous harvesters on traditional territory of Pimicikamak Cree Nation, Bushie said in the release.\n",
    "\n",
    "Jamie Moses, then the minister of natural resources, sparked fury from Pimicikamak and the Manitoba Wildlife Federation last summer after he cut the number of moose draw hunting licences for Manitoba residents by 75 per cent — from a total of 400 to 100 — across four of Manitoba's 62 game hunting areas.\n",
    "\n",
    "First Nation's moose hunting case to make 'new case law' in Manitoba, lawyers say as hearings conclude\n",
    "Manitoba made 'political compromise' by cutting moose draw licences in some areas, lawyer argues\n",
    "The traditional territory of Pimicikamak, also known as the Cross Lake Resource Area, spans nearly 15,000 square kilometres and portions of four of Manitoba's game hunting areas, including two of four GHAs subject to the 75 per cent licence reduction.\n",
    "\n",
    "Pimicikamak and the wildlife federation both challenged Moses' decision in court. Manitoba Court of King's Bench Justice Brian Bowman heard from lawyers representing Pimicikamak, the wildlife federation and the province during a two-day hearing last November.\n",
    "\n",
    "New wildlife advisory board\n",
    "Pimicikamak's lawyers argued the province's July 11 licensing decision infringed on its rights under provincial laws, Treaty 5 and the 1977 Northern Flood Agreement. The wildlife federation argued the cut in licences was not based on scientific data.\n",
    "\n",
    "The province's lawyers asked Bowman to dismiss both applications, but to dismiss Pimicikamak's case without prejudice so the First Nation could potentially pursue a lawsuit instead, because while both groups have an interest in Manitoba wildlife, they are not equal, as First Nations people have recognized treaty rights to hunt.\n",
    "\n",
    "Bowman has yet to deliver a decision in the case.\n",
    "\n",
    "'The fight's not over,' Pimicikamak chief says after urging non-Indigenous moose hunters to return licences\n",
    "Pimicikamak Cree Nation asks court to cancel moose hunting licences in territory amid population 'crisis'\n",
    "The province also says aerial surveys focused on moose were conducted in GHAs 9A and 10 over the winter. Fifteen per cent of GHA 9A, and 12 per cent of GHA 10 has been set aside for exclusive use by Indigenous hunters.\n",
    "\n",
    "The 350 moose hunting licences being offered this year span the remaining portions of GHAs 9A and 10, as well as GHAs 15 and 15A.\n",
    "\n",
    "The province is going to work with Pimicikamak to create a wildlife advisory and planning board, which will impact shared wildlife-related resources, Bushie said in the release.\n",
    "\n",
    "The board will help manage resources and allow discussion of shared land and natural resource management, he said.\n",
    "\n",
    "\"\"\"\n",
    "# Truncates if longer than 512 tokens\n",
    "inputs = tokenizer(article, return_tensors=\"pt\", max_length=256, truncation=True)"
   ]
  },
  {
   "cell_type": "code",
   "execution_count": 169,
   "id": "df33bf31-6c1f-4cc9-a633-0f09525b164a",
   "metadata": {},
   "outputs": [
    {
     "name": "stdout",
     "output_type": "stream",
     "text": [
      "Summary:   The news of a new development development development has been announced announced announced in Canada . The announcement announcement announcement was made to the public, but it is still unclear whether whether or or if if it would be a new report of the new developments\n",
      "TIme Taken:  1.7509615421295166\n"
     ]
    }
   ],
   "source": [
    "import time\n",
    "start_time = time.time()\n",
    "summary_ids = quantized_model.generate(inputs[\"input_ids\"], max_length=50, min_length=20, do_sample=False)\n",
    "end_time = time.time()\n",
    "summary = tokenizer.decode(summary_ids[0], skip_special_tokens=True)\n",
    "print(\"Summary: \", summary)\n",
    "print(\"TIme Taken: \", end_time-start_time)"
   ]
  },
  {
   "cell_type": "code",
   "execution_count": null,
   "id": "a26c4bcb-81bb-47fe-af03-49f8f07d7d62",
   "metadata": {},
   "outputs": [],
   "source": []
  },
  {
   "cell_type": "code",
   "execution_count": null,
   "id": "14a56382-5dfb-40c5-bb8a-e2983fda4867",
   "metadata": {},
   "outputs": [],
   "source": []
  }
 ],
 "metadata": {
  "kernelspec": {
   "display_name": "Python 3 (ipykernel)",
   "language": "python",
   "name": "python3"
  },
  "language_info": {
   "codemirror_mode": {
    "name": "ipython",
    "version": 3
   },
   "file_extension": ".py",
   "mimetype": "text/x-python",
   "name": "python",
   "nbconvert_exporter": "python",
   "pygments_lexer": "ipython3",
   "version": "3.12.4"
  }
 },
 "nbformat": 4,
 "nbformat_minor": 5
}
